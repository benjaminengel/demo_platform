{
 "cells": [
  {
   "cell_type": "code",
   "execution_count": null,
   "metadata": {},
   "outputs": [],
   "source": [
    "from confluent_kafka import Producer, Consumer"
   ]
  },
  {
   "cell_type": "code",
   "execution_count": null,
   "metadata": {},
   "outputs": [],
   "source": [
    "# Global Config\n",
    "TOPIC = 'test_topic'\n",
    "BOOTSTRAP_SERVERS = 'kafka1:19092,kafka2:29092,kafka3:39092'"
   ]
  },
  {
   "cell_type": "markdown",
   "metadata": {},
   "source": [
    "**Producer**"
   ]
  },
  {
   "cell_type": "code",
   "execution_count": null,
   "metadata": {},
   "outputs": [],
   "source": [
    "def delivery_callback(err, msg):\n",
    "    if err:\n",
    "        print('%% Message failed delivery: %s\\n' % err)\n",
    "    else:\n",
    "        print('%% Message delivered to %s [%d] @ %o\\n' %\n",
    "                         (msg.topic(), msg.partition(), msg.offset()))"
   ]
  },
  {
   "cell_type": "code",
   "execution_count": null,
   "metadata": {},
   "outputs": [],
   "source": [
    "# Producer configuration\n",
    "# See https://github.com/edenhill/librdkafka/blob/master/CONFIGURATION.md\n",
    "conf  = {'bootstrap.servers': BOOTSTRAP_SERVERS}\n",
    "# Create Producer instance\n",
    "p = Producer(**conf)\n",
    "p.produce(TOPIC, 'Hello World', callback=delivery_callback)\n",
    "# Serve delivery callback queue.\n",
    "# NOTE: Since produce() is an asynchronous API this poll() call\n",
    "#       will most likely not serve the delivery callback for the\n",
    "#       last produce()d message.\n",
    "p.poll(0)\n",
    "# Wait until all messages have been delivered\n",
    "p.flush()"
   ]
  },
  {
   "cell_type": "markdown",
   "metadata": {},
   "source": [
    "**Consumer**"
   ]
  },
  {
   "cell_type": "code",
   "execution_count": null,
   "metadata": {},
   "outputs": [],
   "source": [
    "config_dict = {\n",
    "        'bootstrap.servers': BOOTSTRAP_SERVERS,\n",
    "        'group.id': 'mygroup', \n",
    "        'default.topic.config': {\n",
    "            'auto.offset.reset': 'smallest'\n",
    "        }\n",
    "}\n",
    "\n",
    "c = Consumer(config_dict)\n",
    "c.subscribe([TOPIC])\n",
    "msg = c.poll()\n",
    "print(\"The MSG is {}\".format(msg.value()))"
   ]
  }
 ],
 "metadata": {
  "kernelspec": {
   "display_name": "Python 3",
   "language": "python",
   "name": "python3"
  },
  "language_info": {
   "codemirror_mode": {
    "name": "ipython",
    "version": 3
   },
   "file_extension": ".py",
   "mimetype": "text/x-python",
   "name": "python",
   "nbconvert_exporter": "python",
   "pygments_lexer": "ipython3",
   "version": "3.6.5"
  }
 },
 "nbformat": 4,
 "nbformat_minor": 2
}
