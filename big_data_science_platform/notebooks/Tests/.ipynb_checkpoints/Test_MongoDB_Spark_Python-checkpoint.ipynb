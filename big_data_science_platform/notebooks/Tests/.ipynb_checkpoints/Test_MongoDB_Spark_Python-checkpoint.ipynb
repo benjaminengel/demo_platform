{
 "cells": [
  {
   "cell_type": "code",
   "execution_count": null,
   "metadata": {},
   "outputs": [],
   "source": [
    "import os\n",
    "import pyspark"
   ]
  },
  {
   "cell_type": "code",
   "execution_count": null,
   "metadata": {},
   "outputs": [],
   "source": [
    "# One way of loading additional packages to spark\n",
    "os.environ['PYSPARK_SUBMIT_ARGS'] = '--packages org.mongodb.spark:mongo-spark-connector_2.11:2.2.0 pyspark-shell'"
   ]
  },
  {
   "cell_type": "code",
   "execution_count": null,
   "metadata": {},
   "outputs": [],
   "source": [
    "spark = pyspark.sql.SparkSession.builder\\\n",
    "    .appName('test-mongo')\\\n",
    "    .config(\"spark.mongodb.input.uri\", \"mongodb://mongo/test.coll\") \\\n",
    "    .config(\"spark.mongodb.output.uri\", \"mongodb://mongo/test.coll\") \\\n",
    "    .getOrCreate()"
   ]
  },
  {
   "cell_type": "code",
   "execution_count": null,
   "metadata": {},
   "outputs": [],
   "source": [
    "l = [(\"Bilbo Baggins\",  50),\n",
    "     (\"Gandalf\", 1000),\n",
    "     (\"Thorin\", 195),\n",
    "     (\"Balin\", 178),\n",
    "     (\"Kili\", 77),\n",
    "     (\"Dwalin\", 169),\n",
    "     (\"Oin\", 167),\n",
    "     (\"Gloin\", 158),\n",
    "     (\"Fili\", 82),\n",
    "     (\"Bombur\", None)]\n",
    "\n",
    "people = spark.createDataFrame(l, [\"name\", \"age\"])    \n",
    "\n",
    "people.write \\\n",
    "    .format(\"com.mongodb.spark.sql.DefaultSource\") \\\n",
    "    .mode(\"append\") \\\n",
    "    .save()"
   ]
  },
  {
   "cell_type": "code",
   "execution_count": null,
   "metadata": {},
   "outputs": [],
   "source": [
    "spark.read \\\n",
    "    .format(\"com.mongodb.spark.sql.DefaultSource\") \\\n",
    "    .load() \\\n",
    "    .show()"
   ]
  }
 ],
 "metadata": {
  "kernelspec": {
   "display_name": "Python 3",
   "language": "python",
   "name": "python3"
  },
  "language_info": {
   "codemirror_mode": {
    "name": "ipython",
    "version": 3
   },
   "file_extension": ".py",
   "mimetype": "text/x-python",
   "name": "python",
   "nbconvert_exporter": "python",
   "pygments_lexer": "ipython3",
   "version": "3.6.5"
  }
 },
 "nbformat": 4,
 "nbformat_minor": 2
}
