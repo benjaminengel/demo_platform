{
 "cells": [
  {
   "cell_type": "code",
   "execution_count": null,
   "metadata": {},
   "outputs": [],
   "source": [
    "from confluent_kafka import Producer"
   ]
  },
  {
   "cell_type": "code",
   "execution_count": null,
   "metadata": {},
   "outputs": [],
   "source": [
    "# Global Config\n",
    "TOPIC = 'test'\n",
    "BOOTSTRAP_SERVERS = 'kafka1:19092,kafka2:29092,kafka3:39092'"
   ]
  },
  {
   "cell_type": "code",
   "execution_count": null,
   "metadata": {},
   "outputs": [],
   "source": [
    "def delivery_callback(err, msg):\n",
    "    if err:\n",
    "        print('%% Message failed delivery: %s\\n' % err)\n",
    "    else:\n",
    "        print('%% Message delivered to %s [%d] @ %o\\n' %\n",
    "                         (msg.topic(), msg.partition(), msg.offset()))"
   ]
  },
  {
   "cell_type": "markdown",
   "metadata": {},
   "source": [
    "**todo** \n",
    "\n",
    "* avro json deserializer"
   ]
  },
  {
   "cell_type": "code",
   "execution_count": null,
   "metadata": {},
   "outputs": [],
   "source": [
    "# Producer configuration\n",
    "# See https://github.com/edenhill/librdkafka/blob/master/CONFIGURATION.md\n",
    "conf  = {'bootstrap.servers': BOOTSTRAP_SERVERS}\n",
    "# Create Producer instance\n",
    "p = Producer(**conf)\n",
    "p.produce(TOPIC, {'hello':'world'}, callback=delivery_callback)\n",
    "# Serve delivery callback queue.\n",
    "# NOTE: Since produce() is an asynchronous API this poll() call\n",
    "#       will most likely not serve the delivery callback for the\n",
    "#       last produce()d message.\n",
    "p.poll(0)\n",
    "# Wait until all messages have been delivered\n",
    "p.flush()"
   ]
  },
  {
   "cell_type": "code",
   "execution_count": null,
   "metadata": {},
   "outputs": [],
   "source": []
  }
 ],
 "metadata": {
  "kernelspec": {
   "display_name": "Python 3",
   "language": "python",
   "name": "python3"
  },
  "language_info": {
   "codemirror_mode": {
    "name": "ipython",
    "version": 3
   },
   "file_extension": ".py",
   "mimetype": "text/x-python",
   "name": "python",
   "nbconvert_exporter": "python",
   "pygments_lexer": "ipython3",
   "version": "3.6.5"
  }
 },
 "nbformat": 4,
 "nbformat_minor": 2
}
